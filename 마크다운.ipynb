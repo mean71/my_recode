{
 "cells": [
  {
   "cell_type": "markdown",
   "metadata": {},
   "source": [
    "# 주피터 노트북 단축키"
   ]
  },
  {
   "cell_type": "markdown",
   "metadata": {},
   "source": [
    "ctrl+m+h : colab단축키표시 & 설정  \n",
    "ctrl+m+m : 창을 텍스트셀로 변환  \n",
    "ctrl+m+y : 창을 코드셀로 변환  \n",
    "ctrl+m+d : 선택 셀삭제  \n",
    "ctrl+m+z : 셀단위 실행취소\n",
    "ctrl+m+y : 셀단위 실행취소 재실행  \n",
    "ctrl+m+(n/p) : (다음/이전)셀  \n",
    "ctrl+' : 섹션 접기/피기  \n",
    "esc : 셀선택해제  \n",
    "esc+(a/b) :  (위/아래) 코드셀 삽입\n",
    "Shift+Tab : 들여쓰기 취소"
   ]
  },
  {
   "cell_type": "markdown",
   "metadata": {},
   "source": [
    "---\n",
    "# 마크다운(Markdown)\n",
    "---"
   ]
  },
  {
   "cell_type": "markdown",
   "metadata": {},
   "source": [
    "https://namu.wiki/w/%EB%A7%88%ED%81%AC%EB%8B%A4%EC%9A%B4  \n",
    "확장자형식 .md\n",
    "\n",
    "+장점  \n",
    "HTML태그에 비해 간단하고 쉽고 편리  \n",
    "+단점  \n",
    "미지원시 사용불가\n",
    "경량 마크업 언어, 일반 마크업 언어에 비해 문법 간단"
   ]
  },
  {
   "cell_type": "markdown",
   "metadata": {},
   "source": [
    "## 마크다운 핵심 문법"
   ]
  },
  {
   "cell_type": "markdown",
   "metadata": {},
   "source": [
    "### 1. 제목(Heading)"
   ]
  },
  {
   "cell_type": "markdown",
   "metadata": {},
   "source": [
    "'# 제목1'\\\n",
    "'## 제목2'\\\n",
    "'### 제목3'\n",
    "#### 제목4\n",
    "\n",
    "##### 제목5\n",
    "\n",
    "###### 제목6"
   ]
  },
  {
   "cell_type": "markdown",
   "metadata": {},
   "source": [
    "### 2. 수평선(Horizontal Line)"
   ]
  },
  {
   "cell_type": "markdown",
   "metadata": {},
   "source": [
    "---\n",
    "***\n",
    "*************\n",
    "-----------------------\n",
    "- - - \n",
    "* * *\n",
    "'---'를 이용한 수평선은 윗줄에 문자가 있으면 어째 주제목('#')처럼 인식"
   ]
  },
  {
   "cell_type": "markdown",
   "metadata": {},
   "source": [
    "### 3. 목록(List)"
   ]
  },
  {
   "cell_type": "markdown",
   "metadata": {},
   "source": [
    "- '-'\n",
    "   + '*'\n",
    "     * '+'\n",
    "1. 1\n",
    "2. 2\n",
    "3. 3\n",
    "4. 4\n",
    "5. 5\n",
    "\n",
    "ㅇㅇ"
   ]
  },
  {
   "cell_type": "markdown",
   "metadata": {},
   "source": [
    "### 4. 체크박스(Checkbox)"
   ]
  },
  {
   "cell_type": "markdown",
   "metadata": {},
   "source": [
    "- [ ] `- [ ]`를 입력하고 한 칸 띄어쓰기 하고 내용을 적습니다. \n",
    "- [X] 표시를 하면 프리뷰 모드에서 체크가 된 것으로 보여집니다"
   ]
  },
  {
   "cell_type": "markdown",
   "metadata": {},
   "source": [
    "### 5. 강조 및 취소선"
   ]
  },
  {
   "cell_type": "markdown",
   "metadata": {},
   "source": [
    "문장 또는 단어를 강조하거나 취소선을 그을 때 사용합니다. *, _, =, ~을 이용해서 아주 간단하게 할 수 있습니다.\n",
    "- *이탤릭*  \n",
    "- **굵게**  \n",
    "- ==하이라이트==  \n",
    "- ~~취소선~~  "
   ]
  },
  {
   "cell_type": "markdown",
   "metadata": {},
   "source": [
    "### 6. 인용블록(Quote)"
   ]
  },
  {
   "cell_type": "markdown",
   "metadata": {},
   "source": [
    "다른 글을 참조할 때 사용\n",
    "> 오른쪽 꺽쇠와 띄어쓰기 입력 후 내용입력.인용 블록 안에서도 다른 마크다운 문법인식  \n",
    "> `>` 을 이용해 html상의 특별한 서식인 인용 표현 가능   \n",
    "> 다른 마크다운 문법(제목, 목록, 강조 등)도 적용가능  \n",
    ">> ####### 제목  \n",
    ">> - 목록 1\n",
    ">>     - 목록 2\n",
    ">> -  **강조** \n",
    ">> - ~~취소선~~\n",
    "\n",
    "> **아래 매뉴얼을 따라주세요!**\n",
    ">> ➀  \n",
    "➁  \n",
    "➂  \n",
    "➃  \n",
    "➄  \n",
    "➅  \n",
    "➆  "
   ]
  },
  {
   "cell_type": "markdown",
   "metadata": {},
   "source": [
    "### 7. 코드블록(Code Block) 및 인라인코드(Inline Code)"
   ]
  },
  {
   "cell_type": "markdown",
   "metadata": {},
   "source": [
    "코드블록과 인라인코드는 마크다운 문서에 코드 내용을 작성할 때 사용\n",
    "- 코드블록  \n",
    "  프로그래밍 문법 맞게 키워드를 강조하는 하이라이팅(syntax highlighting)기능지원\n",
    "```js\n",
    "function fancyAlert(arg) {\n",
    "  if(arg) {\n",
    "    $.facebox({div:'#foo'})\n",
    "  }\n",
    "}\n",
    "```\n",
    "function fancyAlert(arg) {  \n",
    "  if(arg) {  \n",
    "    $.facebox({div:'#foo'})  \n",
    "  }  \n",
    "}  \n",
    "- 인라인 코드(Inline Code)  \n",
    "문장 중간에 코드를 사용할 때 백틱(backtick) 2개 사이에 코드를 작성.  \n",
    "이렇게 중간에 `a = 1 + 2` 코드 작성가능."
   ]
  },
  {
   "cell_type": "markdown",
   "metadata": {},
   "source": [
    "### 8. 표(Table)"
   ]
  },
  {
   "cell_type": "markdown",
   "metadata": {},
   "source": [
    "| 첫번째 열                    |           오른쪽 정렬 | 왼쪽 정렬        |     가운데정렬     |\n",
    "| ---------------------------- | ---------------------:|:---------------- |:------------------:|\n",
    "| \\| 사이에 내용을 입력합니다. | 오른쪽 정렬이 됩니다. | 왼쪽 정렬입니다. | 가운데 정렵입니다. |\n",
    "| 한줄 더 추가할 수 있습니다. <br>2번째<br>3번째 |  |  |   |\n",
    "출처: https://olait.tistory.com/46 <br> [이토록 쉬운 옵시디언:티스토리]"
   ]
  },
  {
   "cell_type": "markdown",
   "metadata": {},
   "source": [
    "### 9. 링크(Link)"
   ]
  },
  {
   "cell_type": "markdown",
   "metadata": {},
   "source": [
    "외부의 웹페이지 링크를 입력할 때 사용합니다. URL 링크 주소 그대로 표현되지 않고 대괄호 안의 문자열로 링크를 표현합니다. 클릭해서 링크를 열 수 있습니다.\\\n",
    "[제목](url 링크)\\\n",
    "예시)\\\n",
    "[네이버](https://www.naver.com/)\\\n",
    "실제)\\\n",
    "출처: https://olait.tistory.com/46 [이토록 쉬운 옵시디언:티스토리]"
   ]
  },
  {
   "cell_type": "markdown",
   "metadata": {},
   "source": [
    "### 10. 이미지(Image)"
   ]
  },
  {
   "cell_type": "markdown",
   "metadata": {},
   "source": [
    "이미지를 문서에 넣을 때 사용합니다. 사용방법은 링크와 유사합니다.사진 제목과 이미지 주소를 대괄호와 소괄호에 입력합니다. 그리고 맨 앞에 !를 붙입니다.특이한 점은 인터넷 상의 이미지는 다운로드를 받지 않고 이미지 주소를 복사해서 넣어도 됩니다.내 컴퓨터에 있는 이미지를 사용하는 경우에는 절대경로 또는 상대 경로를 입력합니다.\n",
    "![제목](이미지 주소)\n",
    "예시)\n",
    "![산 예제](https://bit.ly/3CtGPq0)\n",
    "출처: https://olait.tistory.com/46 [이토록 쉬운 옵시디언:티스토리]"
   ]
  },
  {
   "cell_type": "markdown",
   "metadata": {},
   "source": [
    "# 정리안된 팁"
   ]
  },
  {
   "cell_type": "markdown",
   "metadata": {},
   "source": [
    "엔터 강제개행이 인식되지 않아 문단을 나누고 싶으면 엔터를 두번넣거나,\n",
    "\n",
    "줄 끝에 역슬레시를 넣어주거나 \\\n",
    "줄끝에 공백2칸을 넣어준다  \n",
    "\n",
    "\n",
    "1.   순서있는 목록\n",
    "2.ㅇㅇ\n",
    "3.ㅇㅇㅇ\n",
    "+ 순서\n",
    "- 없는\n",
    "* 목록\n",
    "  - tab키로 들여쓰면\n",
    "    - 단계목록  \n",
    "+ **굵게** 또는 __두껍게__\n",
    "+ *기울임* or _기울임_  \n",
    "+ ___굵은기울임체____ or ***오***  \n",
    "+ ~~취소선~~  \n",
    "`function add(x,y){return x+y}`\n",
    "`~~__*기울인 굵은 취소선 하이라이트*__~~`\n",
    "\n",
    "```\n",
    "while(ab:=input().split(' '))and(all(AB/1==0)for AB in ab)and all(-100000<=len(AB)<=1000000 for AB in ab):\n",
    "    print(f'a = {ab[0]}\\nb = {ab[1]}')\n",
    "    break\n",
    "```\n",
    "+링크삽입\n",
    "<https://colab.research.google.com/drive/1D7hf-Vy6VAA05ixEf2VKuUIwt1zOdziu#scrollTo=50jchyH52jph>\n",
    "\n",
    "+ [하이퍼링크](https://colab.research.google.com/drive/1D7hf-Vy6VAA05ixEf2VKuUIwt1zOdziu#scrollTo=50jchyH52jph)"
   ]
  }
 ],
 "metadata": {
  "language_info": {
   "name": "python"
  }
 },
 "nbformat": 4,
 "nbformat_minor": 2
}
